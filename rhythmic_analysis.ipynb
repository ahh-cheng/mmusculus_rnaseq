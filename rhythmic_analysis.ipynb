{
 "cells": [
  {
   "cell_type": "markdown",
   "metadata": {},
   "source": [
    "## JTK_CYCLE"
   ]
  },
  {
   "cell_type": "markdown",
   "metadata": {},
   "source": [
    "1. Make sure the JTK_CYCLEv3 script is in the working directory\n",
    "2. Split the normalized counts into 2 worksheets, i.e. WT_only and KO_only\n",
    "3. Arrange counts from each library (each column) by timepoints, also clustering replicates together\n",
    "4. The first column should be gene identifier (gene name, ENSEMBL ID etc.)\n",
    "5. Make an annotation file that contain the list of gene identifier (seems redundant to me but the rules are rules)\n",
    "6. Change the `project` to a name you like. `annot` and `data` should be set to the annotation file and arranged normalized counts file\n",
    "7. Set `jtkdist(x,y)`, where `x` is number of timepoints and `y` is number of replicates per timepoint\n",
    "8. Set `periods <- p,q`, where `p` is (minimum period you want to measure)/(timepoint interval) and `q` is (maximum period you want to measure)/(timepoint interval)\n",
    "9. Set the `z` in `jtk.init(periods, z)` to timepoint interval"
   ]
  },
  {
   "cell_type": "code",
   "execution_count": null,
   "metadata": {},
   "outputs": [],
   "source": [
    "source(\"JTK_CYCLEv3.1.R\")\n",
    "\n",
    "project <- \"JTK_wt\"\n",
    "\n",
    "options(stringsAsFactors=FALSE)\n",
    "annot <- read.delim(\"annoJTK1.txt\")\n",
    "data <- read.delim(\"wtcountsJTK.txt\")\n",
    "\n",
    "rownames(data) <- data[,1]\n",
    "data <- data[,-1]\n",
    "jtkdist(4,5) \t# 4 total time points, 5 replicates per time point\n",
    "\n",
    "periods <- 2:4\n",
    "jtk.init(periods,6)\n",
    "\n",
    "cat(\"JTK analysis started on\",date(),\"\\n\")\n",
    "flush.console()\n",
    "\n",
    "st <- system.time({\n",
    "  res <- apply(data,1,function(z) {\n",
    "    jtkx(z)\n",
    "    c(JTK.ADJP,JTK.PERIOD,JTK.LAG,JTK.AMP)\n",
    "  })\n",
    "  res <- as.data.frame(t(res))\n",
    "  bhq <- p.adjust(unlist(res[,1]),\"BH\")\n",
    "  res <- cbind(bhq,res)\n",
    "  colnames(res) <- c(\"BH.Q\",\"ADJ.P\",\"PER\",\"LAG\",\"AMP\")\n",
    "  results <- cbind(annot,res,data)\n",
    "  results <- results[order(res$ADJ.P,-res$AMP),]\n",
    "})\n",
    "print(st)\n",
    "\n",
    "save(results,file=paste(\"JTK\",project,\"rda\",sep=\".\"))\n",
    "write.table(results,file=paste(\"JTK\",project,\"txt\",sep=\".\"),row.names=F,col.names=T,quote=F,sep=\"\\t\")"
   ]
  },
  {
   "cell_type": "code",
   "execution_count": null,
   "metadata": {},
   "outputs": [],
   "source": [
    "source(\"JTK_CYCLEv3.1.R\")\n",
    "\n",
    "project <- \"JTK_ko\"\n",
    "\n",
    "options(stringsAsFactors=FALSE)\n",
    "annot <- read.delim(\"annoJTK1.txt\")\n",
    "data <- read.delim(\"kocountsJTK.txt\")\n",
    "\n",
    "rownames(data) <- data[,1]\n",
    "data <- data[,-1]\n",
    "jtkdist(4,5) \t# 4 total time points, 5 replicates per time point\n",
    "\n",
    "periods <- 2:4\n",
    "jtk.init(periods,6)\n",
    "\n",
    "cat(\"JTK analysis started on\",date(),\"\\n\")\n",
    "flush.console()\n",
    "\n",
    "st <- system.time({\n",
    "  res <- apply(data,1,function(z) {\n",
    "    jtkx(z)\n",
    "    c(JTK.ADJP,JTK.PERIOD,JTK.LAG,JTK.AMP)\n",
    "  })\n",
    "  res <- as.data.frame(t(res))\n",
    "  bhq <- p.adjust(unlist(res[,1]),\"BH\")\n",
    "  res <- cbind(bhq,res)\n",
    "  colnames(res) <- c(\"BH.Q\",\"ADJ.P\",\"PER\",\"LAG\",\"AMP\")\n",
    "  results <- cbind(annot,res,data)\n",
    "  results <- results[order(res$ADJ.P,-res$AMP),]\n",
    "})\n",
    "print(st)\n",
    "\n",
    "save(results,file=paste(\"JTK\",project,\"rda\",sep=\".\"))\n",
    "write.table(results,file=paste(\"JTK\",project,\"txt\",sep=\".\"),row.names=F,col.names=T,quote=F,sep=\"\\t\")"
   ]
  },
  {
   "cell_type": "markdown",
   "metadata": {},
   "source": [
    "## MetaCycle"
   ]
  },
  {
   "cell_type": "code",
   "execution_count": null,
   "metadata": {
    "scrolled": true
   },
   "outputs": [],
   "source": [
    "library(MetaCycle, lib.loc=\"C:/Users/Arthur/Documents/R/win-library/3.5\")"
   ]
  },
  {
   "cell_type": "code",
   "execution_count": null,
   "metadata": {
    "scrolled": false
   },
   "outputs": [],
   "source": [
    "meta2d(infile=\"wtcounts.csv\", filestyle=\"csv\", outdir=\"WT_metacycle\", timepoints=rep(seq(0, 18, by=6), each=5), \n",
    "       #this specify the range of time points, in this case starting at ct0 ending at ct18, \n",
    "       #sampled 6 hours apart, with 5 replciates per timepoint\n",
    "       minper=12, maxper=24,\n",
    "       cycMethod=c(\"JTK\",\"LS\"), outIntegration=\"both\") \n",
    "#outIntergration = \"both\" will make metacycle almagamate results from JTK & LS"
   ]
  },
  {
   "cell_type": "markdown",
   "metadata": {},
   "source": [
    "## RAIN"
   ]
  },
  {
   "cell_type": "code",
   "execution_count": null,
   "metadata": {},
   "outputs": [],
   "source": [
    "library(rain)\n",
    "wtcounts <- read.delim(\"C:/Users/Arthur/Desktop/sox2revision/data/wtcounts.txt\", row.names=1)\n",
    "View(wtcounts)\n",
    "results<-rain(t(wtcounts),deltat=6,period=24,nr.series=5,peak.border=c(0.2,0.8), verbose = TRUE)\n"
   ]
  },
  {
   "cell_type": "code",
   "execution_count": null,
   "metadata": {
    "scrolled": true
   },
   "outputs": [],
   "source": [
    "kocounts<-read.delim(\"C:/Users/Arthur/Desktop/sox2revision/data/kocounts.txt\", row.names=1)\n",
    "head(kocounts)\n",
    "results<-rain(t(kocounts),deltat=6,period=24,nr.series=5,peak.border=c(0.2,0.8),verbose=TRUE)"
   ]
  },
  {
   "cell_type": "markdown",
   "metadata": {},
   "source": [
    "## ARSER using MetaCycle"
   ]
  },
  {
   "cell_type": "markdown",
   "metadata": {},
   "source": [
    "ARSER cannot handle biological replicates, so let's take the mean/median of the replicates. Another way is to concatenate all the replicates into 1 single time series. This is outrageous in principle but I tried it nonetheless."
   ]
  },
  {
   "cell_type": "code",
   "execution_count": null,
   "metadata": {},
   "outputs": [],
   "source": [
    "meta2d(infile=\"wtmedian.txt\", filestyle=\"txt\", outdir=\"a3_wtmedian\", timepoints=seq(0, 18, by=6), \n",
    "       #this specify the range of time points, in this case starting at ct0 ending at ct18, \n",
    "       cycMethod=c(\"JTK\",\"LS\",\"ARS\"), outIntegration=\"both\") \n",
    "#outIntergration = \"both\" will make metacycle almagamate results from JTK & LS & ARS"
   ]
  },
  {
   "cell_type": "code",
   "execution_count": null,
   "metadata": {},
   "outputs": [],
   "source": [
    "meta2d(infile=\"komedian.txt\", filestyle=\"txt\", outdir=\"a3_komedian\", timepoints=seq(0, 18, by=6), \n",
    "       #this specify the range of time points, in this case starting at ct0 ending at ct18, \n",
    "       cycMethod=c(\"JTK\",\"LS\",\"ARS\"), outIntegration=\"both\") \n",
    "#outIntergration = \"both\" will make metacycle almagamate results from JTK & LS & ARS"
   ]
  },
  {
   "cell_type": "markdown",
   "metadata": {},
   "source": [
    "## DESeq2 starting with summarizedExperiment"
   ]
  },
  {
   "cell_type": "code",
   "execution_count": null,
   "metadata": {},
   "outputs": [],
   "source": [
    "library(DESeq2)\n",
    "load(\"C:/Users/Arthur/Desktop/sox2revision/Rob/imadethis.RData\") \n",
    "#I already put in most of the colData into this RData but this is still unfiltered raw count\n",
    "\n",
    "load(\"C:/Users/Arthur/Desktop/sox2revision/Rob/cpmfilterseitem.RData\")\n",
    "#this is the filtered version with cpm >0.1\n",
    "#I first took the raw count excel file and calculate CPM for each gene in each library, took out those below the threshold and \n",
    "#saved as seperate file, say \"summarizedExperimentwfilter.csv\"\n",
    "\n",
    "load(\"C:/Users/Arthur/Desktop/sox2revision/Rob/imadethis.RData\") #original SE\n",
    "sef<-read.csv(\"summarizedExperimentwfilter.csv\") #filtered SE\n",
    "rownames(sef)<-sef[,1]\n",
    "b<-sef$X\n",
    "sef$X<-NULL\n",
    "keep<-rownames(assay(se)) %in% b\n",
    "nse<-se[keep,]"
   ]
  },
  {
   "cell_type": "code",
   "execution_count": null,
   "metadata": {},
   "outputs": [],
   "source": [
    "nse$group<-factor(c(\"f\",\"h\",\"h\",\"b\",\"c\",\"a\",\"g\",\"d\",\n",
    "                                    \"h\",\"e\",\"d\",\"d\",\"c\",\"e\",\"g\",\"d\",\n",
    "                                    \"a\",\"e\",\"c\",\"e\",\"g\",\"a\",\"f\",\"b\",\n",
    "                                    \"d\",\"b\",\"f\",\"a\",\"b\",\"c\",\"h\",\"b\",\n",
    "                                    \"f\",\"g\",\"g\",\"a\",\"e\",\"c\",\"f\",\"h\"))\n",
    "colData(nse)\n",
    "\n",
    "#arrange the column by group and by replicate number\n",
    "onse<-nse[, order(nse$rep)]\n",
    "oonse<-onse[, order(onse$group)]\n",
    "colData(oonse)\n",
    "save(oonse, file=\"summarizedExperiment_v1.RData\") #current raw count summarizedExperiment\n",
    "\n",
    "\n",
    "#design1: subset by timepoint\n",
    "dds<- DESeqDataSet( se[, se$time == \"0\"], design = ~genotype)\n",
    "#dds <- dds[ rowSums(counts(dds)) > 1, ] \n",
    "dds<- DESeq(dds)\n",
    "res0<- results(dds)\n",
    "write.csv(res0, \"fDESeq2_subset/ct0.csv\")\n",
    "\n",
    "dds<- DESeqDataSet( se[, se$time == \"6\"], design = ~genotype)\n",
    "#dds <- dds[ rowSums(counts(dds)) > 1, ]\n",
    "dds<- DESeq(dds)\n",
    "res6<- results(dds)\n",
    "write.csv(res6, \"fDESeq2_subset/ct6.csv\")\n",
    "\n",
    "dds<- DESeqDataSet( se[, se$time == \"12\"], design = ~genotype)\n",
    "#dds <- dds[ rowSums(counts(dds)) > 1, ]\n",
    "dds<- DESeq(dds)\n",
    "res12<- results(dds)\n",
    "write.csv(res12, \"fDESeq2_subset/ct12.csv\")\n",
    "\n",
    "dds<- DESeqDataSet( se[, se$time == \"18\"], design = ~genotype)\n",
    "#dds <- dds[ rowSums(counts(dds)) > 1, ]\n",
    "dds<- DESeq(dds)\n",
    "res18<- results(dds)\n",
    "write.csv(res18, \"fDESeq2_subset/ct18.csv\")\n",
    "\n",
    "\n",
    "#design2: group genotype+timepoint\n",
    "dds<-DESeqDataSet(oonse, design = ~group)\n",
    "#dds <- dds[ rowSums(counts(dds)) > 1, ] #this filter out really low count genes\n",
    "dds<-DESeq(dds)\n",
    "res0 <- results(dds, contrast=c(\"group\",\"e\",\"a\"))\n",
    "res6 <- results(dds, contrast=c(\"group\",\"f\",\"b\"))\n",
    "res12 <- results(dds, contrast=c(\"group\",\"g\",\"c\"))\n",
    "res18 <- results(dds, contrast=c(\"group\",\"h\",\"d\"))\n",
    "write.csv(res0, \"fDESeq2_group_AvB/ct0.csv\")\n",
    "write.csv(res6, \"fDESeq2_group_AvB/ct6.csv\")\n",
    "write.csv(res12, \"fDESeq2_group_AvB/ct12.csv\")\n",
    "write.csv(res18, \"fDESeq2_group_AvB/ct18.csv\")\n",
    "\n",
    "#design3\n",
    "# recommended by Michael Love on https://support.bioconductor.org/p/112118/\n",
    "dds<-DESeqDataSet(nse, design = ~time+time:genotype)\n",
    "dds<-DESeq(dds)\n",
    "resultsNames(dds)\n",
    "res0=results(dds, name=\"time0.genotypeKO\")\n",
    "res6=results(dds, name=\"time6.genotypeKO\")\n",
    "res12=results(dds, name=\"time12.genotypeKO\")\n",
    "res18<-results(dds, name=\"time18.genotypeKO\")\n",
    "write.csv(res0,file=\"hopetogod.csv\")\n",
    "write.csv(res6,file=\"hopetogod1.csv\")\n",
    "write.csv(res12,file=\"hopetogod12.csv\")\n",
    "write.csv(res18,file=\"hopetogod18.csv\")"
   ]
  },
  {
   "cell_type": "markdown",
   "metadata": {},
   "source": [
    "## Heatmap of DEGs expression across timepoint"
   ]
  },
  {
   "cell_type": "code",
   "execution_count": null,
   "metadata": {},
   "outputs": [],
   "source": [
    "vsd<-vst(dds,blind=FALSE) #transform the dds using VST\n",
    "\n",
    "#order the columns into WT0, WT6, WT12, WT18, KO0, KO6, KO12, KO18\n",
    "order(nse$group)\n",
    "ovsd<-assay(vsd)[,order(nse$group)]\n",
    "head(ovsd)\n",
    "\n",
    "#filter out the nonDEGs\n",
    "DEG<-read.csv(\"deseq2_237degs_fdr.05.csv\", header=TRUE) #list of ensemblID for the 237 DEGs\n",
    "filter<-rownames(vsd)%in%DEG$ensemblID\n",
    "degonly<-vsd[filter,]\n",
    "\n",
    "#make a matrix of expression minus mean expression\n",
    "mat<-assay(degonly)-rowMeans(assay(degonly))\n",
    "anno <- as.data.frame(colData(vsd)[, c(\"genotype\",\"time_h\")])\n",
    "pheatmap(mat, annotation_col = anno, cluster_cols = FALSE)\n",
    "\n",
    "#this is borrowed from https://slowkow.com/notes/heatmap-tutorial/ to make each color represent the same number of blocks\n",
    "quantile_breaks <- function(xs, n = 10) {\n",
    "breaks <- quantile(xs, probs = seq(0, 1, length.out = n))\n",
    "breaks[!duplicated(breaks)]\n",
    "}\n",
    "mat_breaks <- quantile_breaks(mat, n = 11)\n",
    "res<-pheatmap(mat, annotation_col = anno, cluster_cols = FALSE, color= viridis(length(mat_breaks) - 1),\n",
    "breaks= mat_breaks, show_colnames = F, show_rownames = F)\n",
    "\n",
    "#get the rownames of the tree in order of the clustering\n",
    "geneid <- mat[c(res$tree_row[[\"order\"]]),]\n",
    "\n",
    "#look at the dendrogram\n",
    "plot(res$tree_row) \n",
    "abline(h=3, col=\"red\", lty=2, lwd=2) #from this graph we can roughly decide how many clusters we want to group the genes into\n",
    "\n",
    "#here I picked the h=3 to cut the trees into 9 branches\n",
    "write.csv(data.frame(sort(cutree(res$tree_row, h=3))), file=\"cutting_tree.csv\")\n",
    "\n",
    "#this is how the heatmap looks like if it is divided by the main branches\n",
    "res<-pheatmap(mat, annotation_col = anno, cluster_cols = FALSE, color= viridis(length(mat_breaks)-1),\n",
    "    breaks= mat_breaks, show_colnames = F, show_rownames = F, cutree_rows = 9)\n",
    "\n",
    "#another way to cut tree\n",
    "mt.clust <- cbind(mat, cluster = cutree(res$tree_row, k = 9))\n",
    "\n",
    "#sorting the dendrogram\n",
    "library(dendsort)\n",
    "library(dendextend)\n",
    "sort_hclust <- function(...) as.hclust(dendsort(as.dendrogram(...)))\n",
    "mat_cluster_cols <- sort_hclust(res$tree_row)\n",
    "res<-pheatmap(mat, annotation_col = anno, cluster_cols = FALSE, cluster_rows = rev(mat_cluster_cols), \n",
    "              color= viridis(length(mat_breaks)-1), breaks= mat_breaks, show_colnames = F, show_rownames = F, cutree_rows = 9)"
   ]
  },
  {
   "cell_type": "code",
   "execution_count": null,
   "metadata": {},
   "outputs": [],
   "source": [
    "#plot heatmap for rhythmic genes using VST transformed value\n",
    "\n",
    "#plotting both_rhythmic gene set and sort by wt phase\n",
    "um<-read.csv(\"finalizing_v1/meta2d/both_rhythmic.csv\")\n",
    "rowstokeep<-um[,\"CycID\"]\n",
    "both_rg<-vsd[rowstokeep,]\n",
    "dim(assay(both_rg))\n",
    "mat<-assay(both_rg)-rowMeans(assay(both_rg))\n",
    "anno <- as.data.frame(colData(vsd)[, c(\"genotype\",\"time_h\")])\n",
    "omat<-mat[order(um$meta2d_phase),] #sort by WT phase\n",
    "mat_breaks <- quantile_breaks(omat, n = 21)\n",
    "res<-pheatmap(omat, annotation_col = anno,cluster_rows = F, cluster_cols = FALSE, color= viridis(length(mat_breaks) - 1),\n",
    "breaks= mat_breaks, show_colnames = F, show_rownames = F)\n",
    "\n",
    "justwt<-read.csv(\"finalizing_v1/meta2d/wt_rhythmic_genes.csv\") #this contain genes that are rhythmic in both genotype and only in wt\n",
    "justwt<-justwt[justwt$rhythmic==\"wt\",] #filter out genes that are also rhythmic in KO as they have been plotted above\n",
    "rowstokeep<-justwt[,\"CycID\"]\n",
    "wt_rg<-vsd[rowstokeep,]\n",
    "dim(assay(wt_rg))\n",
    "mat<-assay(wt_rg)-rowMeans(assay(wt_rg))\n",
    "anno <- as.data.frame(colData(vsd)[, c(\"genotype\",\"time_h\")])\n",
    "omat<-mat[order(justwt$meta2d_phase),]\n",
    "mat_breaks <- quantile_breaks(omat, n = 21)\n",
    "res<-pheatmap(omat, annotation_col = anno,cluster_rows = F, cluster_cols = FALSE, color= viridis(length(mat_breaks) - 1),\n",
    "breaks= mat_breaks, show_colnames = F, show_rownames = F)\n",
    "\n",
    "\n",
    "justko<-read.csv(\"finalizing_v1/meta2d/ko_rhythmic_genes.csv\") #contain genes that are rhythmic in both genotype and only in ko\n",
    "justko<-justko[justko$rhythmic==\"ko\",] #filter out genes that are also rhythmic in WT as they have been plotted above\n",
    "rowstokeep<-justko[,\"CycID\"]\n",
    "ko_rg<-vsd[rowstokeep,]\n",
    "dim(assay(ko_rg))\n",
    "mat<-assay(ko_rg)-rowMeans(assay(ko_rg))\n",
    "anno <- as.data.frame(colData(vsd)[, c(\"genotype\",\"time_h\")])\n",
    "omat<-mat[order(justko$meta2d_phase),]\n",
    "mat_breaks <- quantile_breaks(omat, n = 21)\n",
    "res<-pheatmap(omat, annotation_col = anno,cluster_rows = F, cluster_cols = FALSE, color= viridis(length(mat_breaks) - 1),\n",
    "breaks= mat_breaks, show_colnames = F, show_rownames = F)"
   ]
  },
  {
   "cell_type": "markdown",
   "metadata": {},
   "source": [
    "## Correcting for transcript length"
   ]
  },
  {
   "cell_type": "markdown",
   "metadata": {},
   "source": [
    "Using normalized count for constructing heatmap and GO enrichment analysis is not optimal as longer genes will have more reads than shorter genes. To correct for this I used *biomaRT* package to fetch transcript length for each gene. As some genes have splice variants, they will have multiple transcript length entries."
   ]
  },
  {
   "cell_type": "code",
   "execution_count": null,
   "metadata": {},
   "outputs": [],
   "source": [
    "library(biomaRT)\n",
    "ensembl=useMart(\"ENSEMBL_MART_ENSEMBL\")\n",
    "ensembl1<-useDataset(\"mmusculus_gene_ensembl\",mart=ensembl)\n",
    "transcriptlen=getBM(attributes = c('ensembl_gene_id',\"transcript_length\"),\n",
    "                filters=\"ensembl_gene_id\",\n",
    "                values=ensemblID, \n",
    "#ensemblID is a list of genes that passed the expression cutoff I set, as of 20180812 that is CPM>0.1 in at least 5 libraries(out of 40)\n",
    "                mart=ensembl1)\n",
    "write.csv(transcriptlen, file=\"transcript_length.csv\")"
   ]
  },
  {
   "cell_type": "markdown",
   "metadata": {},
   "source": [
    "## Graphs for MetaCycle Analysis"
   ]
  },
  {
   "cell_type": "code",
   "execution_count": null,
   "metadata": {},
   "outputs": [],
   "source": [
    "#rose plot for rhythmic genes phase\n",
    "#dodge\n",
    "p<-ggplot(circledata, aes(x = meta2d_phase, color = genotype, fill=genotype)) + geom_histogram(breaks = seq(0, 24), \n",
    "position=\"dodge\")+ coord_polar(start = 0) + theme(legend.position = \"top\") +ylab(\"Count\") + ggtitle(\"phase\") + \n",
    "scale_x_continuous(\"\", limits = c(0, 24), breaks = seq(0, 24), labels = seq(0, 24))\n",
    "\n",
    "#stack\n",
    "p<-ggplot(circledata, aes(x = meta2d_phase, color = genotype, fill=genotype)) + geom_histogram(breaks = seq(0, 24), \n",
    "position=position_stack(reverse=TRUE), color=\"black\")+ coord_polar(start = 0) + theme(legend.position = \"top\") +ylab(\"Count\") + ggtitle(\"phase\") + \n",
    "scale_x_continuous(\"\", limits = c(0, 24), breaks = seq(0, 24), labels = seq(0, 24))\n",
    "\n",
    "p+geom_vline(mapping = NULL, data = NULL, xintercept=c(0,6,12,18) , na.rm = FALSE,\n",
    "show.legend = NA, color=\"red\")+scale_y_continuous(limits = c(0,150))"
   ]
  },
  {
   "cell_type": "code",
   "execution_count": null,
   "metadata": {},
   "outputs": [],
   "source": [
    "#distribution of relative amplitude of rhythmic genes in either genotype\n",
    "p<-ggplot(circledata, aes(x = meta2d_rAMP, color = rhythmic, fill=rhythmic)) + \n",
    "geom_histogram(position=position_stack(reverse=TRUE), color=\"black\", breaks = seq(0,1.5,0.05)) + \n",
    "theme(legend.position = \"top\") +ylab(\"count\") + ggtitle(\"relative amplitude\") + \n",
    "scale_y_continuous(limits=c(0,120), breaks=seq(0,180,10)) + \n",
    "scale_x_continuous(breaks=seq(-.25,1.5,.25))\n",
    "\n",
    "pg <- ggplot_build(p)\n",
    "\n",
    "q<-ggplot(wtcircledata, aes(x = meta2d_rAMP, color = rhythmic, fill=rhythmic)) +\n",
    "geom_histogram(position=position_stack(reverse=TRUE), color=\"black\", breaks = seq(0,1.5,0.05)) +\n",
    "theme(legend.position = \"top\") +ylab(\"count\") + ggtitle(\"relative amplitude\") + \n",
    "scale_y_continuous(limits=c(0,120), breaks=seq(0,180,10)) + \n",
    "scale_x_continuous(breaks=seq(-.25,1.5,.25))\n",
    "\n",
    "qg<-ggplot_build(q)"
   ]
  },
  {
   "cell_type": "code",
   "execution_count": null,
   "metadata": {},
   "outputs": [],
   "source": [
    "#distribution of period of rhythmic genes in either genotype\n",
    "p<-ggplot(circledata, aes(x = meta2d_period, color = rhythmic, fill=rhythmic)) +\n",
    "geom_histogram(position=position_stack(reverse=TRUE), color=\"black\", breaks = seq(12,24,0.5)) +\n",
    "theme(legend.position = \"top\") +ylab(\"count\") + ggtitle(\"period\") +\n",
    "scale_y_continuous(limits=c(0,150),breaks=seq(0,180,10)) +\n",
    "scale_x_continuous(breaks=seq(11,24,.5))\n",
    "\n",
    "q<-ggplot(wtcircledata, aes(x = meta2d_period, color = rhythmic, fill=rhythmic)) +\n",
    "geom_histogram(position=position_stack(reverse=TRUE), color=\"black\", breaks = seq(12,24,0.5)) +\n",
    "theme(legend.position = \"top\") +ylab(\"count\") + ggtitle(\"period\") +\n",
    "scale_y_continuous(limits=c(0,150), breaks=seq(0,180,10)) +\n",
    "scale_x_continuous(breaks=seq(11,24,.5))"
   ]
  },
  {
   "cell_type": "code",
   "execution_count": null,
   "metadata": {},
   "outputs": [],
   "source": [
    "#phase against relative amplitude for all rhythmic genes in either genotype\n",
    "p<-ggplot(circledata, aes(x = meta2d_phase, y= meta2d_rAMP, color = rhythmic, shape=rhythmic)) + \n",
    "geom_point()+ theme(legend.position = \"top\") +ylab(\"rAMP\") + ggtitle(\"\")+\n",
    "coord_polar(start=0) + \n",
    "scale_y_continuous(limits = c(0,1.5), breaks=seq(0,4,.25))+ \n",
    "scale_x_continuous(\"\", limits = c(0, 24), breaks = seq(0, 24), labels = seq(0, 24))\n",
    "\n",
    "q<-ggplot(wtcircledata, aes(x = meta2d_phase, y= meta2d_rAMP, color = rhythmic, shape=rhythmic)) + \n",
    "geom_point()+ theme(legend.position = \"top\") + ylab(\"rAMP\") + ggtitle(\"\") + \n",
    "coord_polar(start=0)+\n",
    "scale_y_continuous(limits = c(0,1.5), breaks= seq(0,4,.25))+\n",
    "scale_x_continuous(\"\", limits = c(0, 24), breaks = seq(0, 24), labels = seq(0, 24))"
   ]
  },
  {
   "cell_type": "code",
   "execution_count": null,
   "metadata": {},
   "outputs": [],
   "source": [
    "#phase against period for all rhythmic genes in either genotype\n",
    "p<-ggplot(circledata, aes(x = meta2d_phase, y= meta2d_period, color = rhythmic, shape=rhythmic)) + \n",
    "geom_point()+ theme(legend.position = \"top\") +ylab(\"Period\") + ggtitle(\"\") + \n",
    "coord_polar(start=0) + \n",
    "scale_x_continuous(\"\", limits = c(0, 24), breaks = seq(0, 24), labels = seq(0, 24))+\n",
    "expand_limits(y=0)\n",
    "\n",
    "q<-ggplot(wtcircledata, aes(x = meta2d_phase, y= meta2d_period, color = rhythmic, shape=rhythmic)) + \n",
    "geom_point()+ theme(legend.position = \"top\") +ylab(\"Period\") + ggtitle(\"\") + \n",
    "coord_polar(start=0) + \n",
    "scale_x_continuous(\"\", limits = c(0, 24), breaks = seq(0, 24), labels = seq(0, 24))+\n",
    "expand_limits(y=0)"
   ]
  },
  {
   "cell_type": "code",
   "execution_count": null,
   "metadata": {},
   "outputs": [],
   "source": [
    "#focus on the both_rhythmic gene set: contrast the attributes for each genotype\n",
    "#these are KO-WT\n",
    "data<- read.csv(\"intermediate/both_rhythmic_difference.csv\")\n",
    "l<-ggplot(data, aes(x=Gene, y=diff_meta2d_period))+geom_point()+theme(axis.text.x = element_text(angle=90, size=8))\n",
    "j<-ggplot(data, aes(x=Gene, y=diff_meta2d_rAMP))+geom_point()+theme(axis.text.x=element_text(angle=90, size=8))\n",
    "\n",
    "#for the diff_phase, it is neccessary to adjust the value for the genes with >12 or <12 diff_phase\n",
    "data1<-data\n",
    "data1[data1$diff_meta2d_phase>12,\"diff_meta2d_phase\"]<-data1[data1$diff_meta2d_phase>12,\"diff_meta2d_phase\"]-24\n",
    "data2<-data1\n",
    "data2[-12>data2$diff_meta2d_phase,\"diff_meta2d_phase\"]<-data2[-12>data2$diff_meta2d_phase,\"diff_meta2d_phase\"]+24\n",
    "k<-ggplot(data2, aes(x=Gene, y=diff_meta2d_phase))+geom_point()+theme(axis.text.x=element_text(angle=90, size=8))\n",
    "\n",
    "#use when neccessary + geom_hline(aes(yintercept=0),color=\"red\", linetype=\"solid\", size=1)"
   ]
  },
  {
   "cell_type": "code",
   "execution_count": null,
   "metadata": {},
   "outputs": [],
   "source": [
    "#plot genes that are rhythmic in both genotypes with phase as x axis\n",
    "newcsv<-read.csv(\"intermediate/both_rhythmic.csv\")\n",
    "n<-ggplot(newcsv, aes(x = meta2d_phase, y= meta2d_rAMP, color = CycID, shape=genotype)) + \n",
    "geom_point(alpha=0.6)+ theme(legend.position = \"top\") +ylab(\"rAMP\") + ggtitle(\"\")+coord_polar(start=0)+\n",
    "scale_y_continuous(limits = c(0,1.5), breaks= seq(0,4,.25))+\n",
    "scale_x_continuous(\"\", limits = c(0, 24), breaks = seq(0, 24), labels = seq(0, 24))+guides(color=FALSE)\n",
    "\n",
    "m<-ggplot(newcsv, aes(x = meta2d_phase, y= meta2d_period, color = CycID, shape=genotype)) +\n",
    "geom_point(alpha=0.6)+\n",
    "theme(legend.position = \"top\") +\n",
    "ylab(\"Period\") + ggtitle(\"\") + coord_polar(start=0) +\n",
    "scale_y_continuous(breaks= seq(0,36,6))+\n",
    "scale_x_continuous(\"\", limits = c(0, 24), breaks = seq(0, 24), labels = seq(0, 24))+\n",
    "guides(color=FALSE) +expand_limits(y=0)"
   ]
  },
  {
   "cell_type": "code",
   "execution_count": null,
   "metadata": {},
   "outputs": [],
   "source": [
    "#plot phase/period/genes that are rhythmic in both genotypes\n",
    "n<-ggplot(newcsv, aes(x = Gene, y= meta2d_rAMP, color = genotype)) +\n",
    "geom_point(alpha=0.6)+ theme(legend.position = \"top\", axis.text.x=element_text(angle=90, size=9)) +ylab(\"rAMP\") +\n",
    "scale_y_continuous(limits = c(0,1.5), breaks= seq(0,4,.25))\n",
    "n+scale_color_brewer(palette=\"Set1\")\n",
    "\n",
    "m<-ggplot(newcsv, aes(x = Gene, y= meta2d_period, color = genotype)) +\n",
    "    geom_point(alpha=0.6)+ theme(legend.position = \"top\", axis.text.x=element_text(angle=90, size=9)) +ylab(\"Period\") +\n",
    "    scale_y_continuous(limits = c(12,24), breaks= seq(0,24,1))\n",
    "m+scale_color_brewer(palette=\"Set1\")\n",
    "\n",
    "o<-ggplot(newcsv, aes(x = Gene, y= meta2d_phase, color = genotype)) +\n",
    "    geom_point(alpha=0.6)+ theme(legend.position = \"top\", axis.text.x=element_text(angle=90, size=9)) +ylab(\"Phase\") +\n",
    "    scale_y_continuous(limits = c(0,24), breaks= seq(0,24,1))\n",
    "o+scale_color_brewer(palette=\"Set1\")\n"
   ]
  },
  {
   "cell_type": "code",
   "execution_count": null,
   "metadata": {},
   "outputs": [],
   "source": [
    "#function to display multiple ggplot side by side\n",
    "#http://www.cookbook-r.com/Graphs/Multiple_graphs_on_one_page_(ggplot2)/\n",
    "multiplot <- function(..., plotlist=NULL, file, cols=1, layout=NULL) {\n",
    "    library(grid)\n",
    "    \n",
    "    # Make a list from the ... arguments and plotlist\n",
    "    plots <- c(list(...), plotlist)\n",
    "    \n",
    "    numPlots = length(plots)\n",
    "    \n",
    "    # If layout is NULL, then use 'cols' to determine layout\n",
    "    if (is.null(layout)) {\n",
    "        # Make the panel\n",
    "        # ncol: Number of columns of plots\n",
    "        # nrow: Number of rows needed, calculated from # of cols\n",
    "        layout <- matrix(seq(1, cols * ceiling(numPlots/cols)),\n",
    "                         ncol = cols, nrow = ceiling(numPlots/cols))\n",
    "    }\n",
    "    \n",
    "    if (numPlots==1) {\n",
    "        print(plots[[1]])\n",
    "        \n",
    "    } else {\n",
    "        # Set up the page\n",
    "        grid.newpage()\n",
    "        pushViewport(viewport(layout = grid.layout(nrow(layout), ncol(layout))))\n",
    "        \n",
    "        # Make each plot, in the correct location\n",
    "        for (i in 1:numPlots) {\n",
    "            # Get the i,j matrix positions of the regions that contain this subplot\n",
    "            matchidx <- as.data.frame(which(layout == i, arr.ind = TRUE))\n",
    "            \n",
    "            print(plots[[i]], vp = viewport(layout.pos.row = matchidx$row,\n",
    "                                            layout.pos.col = matchidx$col))\n",
    "        }\n",
    "    }\n",
    "}"
   ]
  },
  {
   "cell_type": "markdown",
   "metadata": {},
   "source": [
    "## Misc"
   ]
  },
  {
   "cell_type": "code",
   "execution_count": null,
   "metadata": {},
   "outputs": [],
   "source": [
    "#arrange the normalized count: each column represent 1 gene, assign the genotype and time point for each row as a new column\n",
    "pltList<-list()\n",
    "for (s in 1:20)\n",
    "    local({\n",
    "        s<-s\n",
    "        time<-tsubset$time\n",
    "        genotype<-tsubset$genotype\n",
    "        x<-tsubset[,s]\n",
    "        p<-data.frame(time,x,genotype)\n",
    "        print(s)\n",
    "        pltList[[s]]<<-print(ggplot(p, aes(x=p$time,y=p$x,shape=genotype, color=genotype))+\n",
    "            geom_point()+scale_shape_manual(values=c(1,17))+\n",
    "            theme(legend.position = \"none\", axis.title.x=element_blank(),axis.title.y=element_blank()))\n",
    "})\n",
    "multiplot(plotlist=pltList, cols=5)"
   ]
  }
 ],
 "metadata": {
  "kernelspec": {
   "display_name": "R",
   "language": "R",
   "name": "ir"
  },
  "language_info": {
   "codemirror_mode": "r",
   "file_extension": ".r",
   "mimetype": "text/x-r-source",
   "name": "R",
   "pygments_lexer": "r",
   "version": "3.5.1"
  }
 },
 "nbformat": 4,
 "nbformat_minor": 2
}
